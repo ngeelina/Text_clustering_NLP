{
 "cells": [
  {
   "cell_type": "markdown",
   "metadata": {},
   "source": [
    "## NLP Text Clustering "
   ]
  },
  {
   "cell_type": "markdown",
   "metadata": {},
   "source": [
    "#### Clustering is an unsupervised learning. It works by grouping similar things together. KMeans is the most popular clustering algorithm and needs us to specify number of clusters and can predict cluseters for unseen datasets. There are no lables in unsupervised learning. If there were labels then this would have been a classification problem."
   ]
  },
  {
   "cell_type": "code",
   "execution_count": 1,
   "metadata": {},
   "outputs": [],
   "source": [
    "import pandas as pd\n",
    "import numpy as np\n",
    "from sklearn.cluster import MiniBatchKMeans\n",
    "from sklearn.feature_extraction.text import TfidfVectorizer\n",
    "from sklearn.decomposition import PCA\n",
    "import matplotlib.pyplot as plt"
   ]
  },
  {
   "cell_type": "markdown",
   "metadata": {},
   "source": [
    "#### The dataset need for this notebook can be downloaded from http://mlg.ucd.ie/files/datasets/bbc-fulltext.zip. "
   ]
  },
  {
   "cell_type": "code",
   "execution_count": 2,
   "metadata": {},
   "outputs": [
    {
     "name": "stdout",
     "output_type": "stream",
     "text": [
      "data\n",
      " EU software patent law delayed\n",
      "\n",
      "Controversial new EU rules for the patenting of computer-based inventions have been put on hold due to a last minute intervention from Poland.\n",
      "\n",
      "Poland - a large and therefore crucial EU member - has requested more time to consider the issue, especially as it relates to the patenting of software. Critics say the law would favour large companies over small, innovative ones. They say it could have massive ramifications for developments such as open source software.\n",
      "\n",
      "Polish ministers want to see the phrasing of the text of the Directive on the Patentability of Computer-Implemented Inventions changed so that it excludes the patenting of software. The planned law has ignited angry debate about whether the EU should allow the patenting of computer programs and internet business methods as currently happens in the US. So, for instance, US-based Amazon.com holds a patent on 'one-click shopping'. Critics claim the law, which the EU says is needed to harmonise with the US, is little more than a law on ideas. \"Patent rights, it is claimed, protect inventors but in this case it is exclusively the interests of the big companies that are protected,\" Eva Lichtenberg, a Austrian Green member of the European Parliament said in a statement. \"Smaller, innovative firms cannot afford the patenting and legal costs that the directive would inflict on them,\" she added. The European Parliament has already clashed with the European Union on the issue and there have been accusations that the process to decide the issue has been undemocratic. The directive has been subject to several previous delays.\n",
      "\n",
      "\n",
      "target\n",
      " 4\n"
     ]
    }
   ],
   "source": [
    "# load_files loads text files with classes as subfolder names\n",
    "from sklearn.datasets import load_files \n",
    "\n",
    "# for reproducibility\n",
    "random_state = 100 \n",
    "\n",
    "DATA_DIR = \"./bbc-fulltext/bbc/\"\n",
    "data = load_files(DATA_DIR, encoding=\"utf-8\", decode_error=\"replace\", random_state=random_state)\n",
    "print('data\\n',data['data'][1])\n",
    "print('\\ntarget\\n',data['target'][1])\n"
   ]
  },
  {
   "cell_type": "code",
   "execution_count": 3,
   "metadata": {},
   "outputs": [
    {
     "data": {
      "text/html": [
       "<div>\n",
       "<style scoped>\n",
       "    .dataframe tbody tr th:only-of-type {\n",
       "        vertical-align: middle;\n",
       "    }\n",
       "\n",
       "    .dataframe tbody tr th {\n",
       "        vertical-align: top;\n",
       "    }\n",
       "\n",
       "    .dataframe thead th {\n",
       "        text-align: right;\n",
       "    }\n",
       "</style>\n",
       "<table border=\"1\" class=\"dataframe\">\n",
       "  <thead>\n",
       "    <tr style=\"text-align: right;\">\n",
       "      <th></th>\n",
       "      <th>text</th>\n",
       "      <th>label</th>\n",
       "    </tr>\n",
       "  </thead>\n",
       "  <tbody>\n",
       "    <tr>\n",
       "      <th>0</th>\n",
       "      <td>US woman sues over ink cartridges\\n\\nA US woma...</td>\n",
       "      <td>4</td>\n",
       "    </tr>\n",
       "    <tr>\n",
       "      <th>1</th>\n",
       "      <td>EU software patent law delayed\\n\\nControversia...</td>\n",
       "      <td>4</td>\n",
       "    </tr>\n",
       "    <tr>\n",
       "      <th>2</th>\n",
       "      <td>Robben plays down European return\\n\\nInjured C...</td>\n",
       "      <td>3</td>\n",
       "    </tr>\n",
       "    <tr>\n",
       "      <th>3</th>\n",
       "      <td>US regulator to rule on pain drug\\n\\nUS food a...</td>\n",
       "      <td>0</td>\n",
       "    </tr>\n",
       "    <tr>\n",
       "      <th>4</th>\n",
       "      <td>Edwards tips Idowu for Euro gold\\n\\nWorld outd...</td>\n",
       "      <td>3</td>\n",
       "    </tr>\n",
       "  </tbody>\n",
       "</table>\n",
       "</div>"
      ],
      "text/plain": [
       "                                                text  label\n",
       "0  US woman sues over ink cartridges\\n\\nA US woma...      4\n",
       "1  EU software patent law delayed\\n\\nControversia...      4\n",
       "2  Robben plays down European return\\n\\nInjured C...      3\n",
       "3  US regulator to rule on pain drug\\n\\nUS food a...      0\n",
       "4  Edwards tips Idowu for Euro gold\\n\\nWorld outd...      3"
      ]
     },
     "execution_count": 3,
     "metadata": {},
     "output_type": "execute_result"
    }
   ],
   "source": [
    "data_df = pd.DataFrame(list(zip(data['data'], data['target'])), columns=['text', 'label'])\n",
    "data_df.head()"
   ]
  },
  {
   "cell_type": "markdown",
   "metadata": {},
   "source": [
    "##### The dataset has 2225 documents and 5 classes; business, entertainment, politics, sport, and tech."
   ]
  },
  {
   "cell_type": "code",
   "execution_count": 4,
   "metadata": {},
   "outputs": [
    {
     "name": "stdout",
     "output_type": "stream",
     "text": [
      "unique classes are: [4 3 0 2 1]\n",
      "number of documents: 2225\n"
     ]
    }
   ],
   "source": [
    "print('unique classes are:', data_df['label'].unique())\n",
    "print('number of documents:', len(data_df))"
   ]
  },
  {
   "cell_type": "markdown",
   "metadata": {},
   "source": [
    "#### Now we compute TF-IDF values. The resulting feature matrix will be used for training."
   ]
  },
  {
   "cell_type": "code",
   "execution_count": 5,
   "metadata": {},
   "outputs": [],
   "source": [
    "tfidf_vec = TfidfVectorizer(stop_words=\"english\")\n",
    "tfidf_vec.fit(data_df.text.values)\n",
    "features = tfidf_vec.transform(data_df.text.values)"
   ]
  },
  {
   "cell_type": "markdown",
   "metadata": {},
   "source": [
    "#### creating a k-means clustering model"
   ]
  },
  {
   "cell_type": "code",
   "execution_count": 6,
   "metadata": {},
   "outputs": [
    {
     "data": {
      "text/plain": [
       "MiniBatchKMeans(batch_size=100, compute_labels=True, init='k-means++',\n",
       "        init_size=None, max_iter=100, max_no_improvement=10, n_clusters=5,\n",
       "        n_init=3, random_state=100, reassignment_ratio=0.01, tol=0.0,\n",
       "        verbose=0)"
      ]
     },
     "execution_count": 6,
     "metadata": {},
     "output_type": "execute_result"
    }
   ],
   "source": [
    "cls = MiniBatchKMeans(n_clusters=5, random_state=random_state)\n",
    "cls.fit(features)"
   ]
  },
  {
   "cell_type": "code",
   "execution_count": 7,
   "metadata": {},
   "outputs": [
    {
     "data": {
      "text/plain": [
       "array([2, 2, 0, ..., 2, 2, 0])"
      ]
     },
     "execution_count": 7,
     "metadata": {},
     "output_type": "execute_result"
    }
   ],
   "source": [
    "# predict cluster labels for new dataset\n",
    "cls.predict(features)"
   ]
  },
  {
   "cell_type": "code",
   "execution_count": 8,
   "metadata": {},
   "outputs": [
    {
     "data": {
      "text/plain": [
       "<2225x29126 sparse matrix of type '<class 'numpy.float64'>'\n",
       "\twith 322146 stored elements in Compressed Sparse Row format>"
      ]
     },
     "execution_count": 8,
     "metadata": {},
     "output_type": "execute_result"
    }
   ],
   "source": [
    "features"
   ]
  },
  {
   "cell_type": "markdown",
   "metadata": {},
   "source": [
    "#### The TfIdf result is a very high dimension data and will be hard to plot it. Principle Component Aanalysis transforms high \n",
    "#### dimensional data to lower dimension. Here we reduce it to 2 dimensions."
   ]
  },
  {
   "cell_type": "code",
   "execution_count": 9,
   "metadata": {},
   "outputs": [],
   "source": [
    "# reduce the features to 2D\n",
    "pca = PCA(n_components=2, random_state=random_state)\n",
    "reduced_features = pca.fit_transform(features.toarray())\n",
    "\n",
    "# reduce the cluster centers to 2D\n",
    "reduced_cluster_centers = pca.transform(cls.cluster_centers_)"
   ]
  },
  {
   "cell_type": "markdown",
   "metadata": {},
   "source": [
    "#### Visualizing the clusters"
   ]
  },
  {
   "cell_type": "code",
   "execution_count": 10,
   "metadata": {},
   "outputs": [
    {
     "data": {
      "text/plain": [
       "<matplotlib.collections.PathCollection at 0x1179903bd30>"
      ]
     },
     "execution_count": 10,
     "metadata": {},
     "output_type": "execute_result"
    },
    {
     "data": {
      "image/png": "[encoded data removed]",
      "text/plain": [
       "<Figure size 432x288 with 1 Axes>"
      ]
     },
     "metadata": {
      "needs_background": "light"
     },
     "output_type": "display_data"
    }
   ],
   "source": [
    "plt.scatter(reduced_features[:,0], reduced_features[:,1], c=cls.predict(features))\n",
    "plt.scatter(reduced_cluster_centers[:, 0], reduced_cluster_centers[:,1], marker='x', s=150, c='r')"
   ]
  },
  {
   "cell_type": "markdown",
   "metadata": {},
   "source": [
    "### Evaluation"
   ]
  },
  {
   "cell_type": "code",
   "execution_count": 11,
   "metadata": {},
   "outputs": [
    {
     "data": {
      "text/plain": [
       "0.5156703649915512"
      ]
     },
     "execution_count": 11,
     "metadata": {},
     "output_type": "execute_result"
    }
   ],
   "source": [
    "from sklearn.metrics import homogeneity_score\n",
    "homogeneity_score(data_df.label, cls.predict(features))"
   ]
  },
  {
   "cell_type": "markdown",
   "metadata": {},
   "source": [
    "#### The scores are not good because the clusters are overlapping. We have to repeatedly try with different parameters for feature extraction"
   ]
  }
 ],
 "metadata": {
  "kernelspec": {
   "display_name": "Python 3",
   "language": "python",
   "name": "python3"
  },
  "language_info": {
   "codemirror_mode": {
    "name": "ipython",
    "version": 3
   },
   "file_extension": ".py",
   "mimetype": "text/x-python",
   "name": "python",
   "nbconvert_exporter": "python",
   "pygments_lexer": "ipython3",
   "version": "3.6.8"
  }
 },
 "nbformat": 4,
 "nbformat_minor": 2
}
